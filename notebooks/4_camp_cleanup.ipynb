{
 "cells": [
  {
   "cell_type": "markdown",
   "id": "4abf5378-eec2-4757-b875-4f5ca2c5232f",
   "metadata": {},
   "source": [
    "# Introduction\n",
    "\n",
    "The notebook includes the code to solve the 4th challenge of Advent of Code 2022"
   ]
  },
  {
   "cell_type": "code",
   "execution_count": 22,
   "id": "9bef632a-95d1-4361-a41d-77ecfd780868",
   "metadata": {},
   "outputs": [],
   "source": [
    "# Import Standard Libraries\n",
    "from typing import Tuple"
   ]
  },
  {
   "cell_type": "code",
   "execution_count": 23,
   "id": "33bec10e-2ac4-49b1-a085-e58af7d55bcd",
   "metadata": {},
   "outputs": [],
   "source": [
    "# Input paths\n",
    "volscente_input_file = './../data/4_input_volscente.txt'\n",
    "ruetha_input_file = './../data/4_input_ruetha.txt'"
   ]
  },
  {
   "cell_type": "markdown",
   "id": "56c9290b-899c-442d-8719-32aa6ff4e5d7",
   "metadata": {},
   "source": [
    "# Part 1"
   ]
  },
  {
   "cell_type": "code",
   "execution_count": 24,
   "id": "0143e4d5-8b41-4e9b-958c-dbbfd92ec4ba",
   "metadata": {},
   "outputs": [],
   "source": [
    "def compute_assignment_range(range: str) -> Tuple[int, int]:\n",
    "    \n",
    "    range_list = range.split('-')\n",
    "    \n",
    "    return int(range_list[0]), int(range_list[1])"
   ]
  },
  {
   "cell_type": "code",
   "execution_count": 25,
   "id": "16413a73-0eb1-4c71-9e0e-3184fe4814eb",
   "metadata": {},
   "outputs": [],
   "source": [
    "def is_including(start_1: int,\n",
    "                 end_1: int,\n",
    "                 start_2: int,\n",
    "                 end_2: int) -> bool:\n",
    "    \n",
    "    including = False\n",
    "    \n",
    "    # Range 1 includes Range 2\n",
    "    if (start_1 <= start_2) and (end_1 >= end_2):\n",
    "        \n",
    "        including = True\n",
    "        \n",
    "    elif (start_2 <= start_1) and (end_2 >= end_1):\n",
    "        \n",
    "        including = True\n",
    "        \n",
    "    return including"
   ]
  },
  {
   "cell_type": "code",
   "execution_count": 26,
   "id": "bce6a0fb-106c-4892-a499-b660811a3cec",
   "metadata": {},
   "outputs": [],
   "source": [
    "def count_including_assignments(file_path: str) -> int:\n",
    "    \n",
    "    # Initialise the count\n",
    "    count = 0\n",
    "    \n",
    "    # Read the file\n",
    "    file = open(file_path, 'r')\n",
    "    \n",
    "    i = 0\n",
    "    \n",
    "    while True:\n",
    "        \n",
    "        # Read single line\n",
    "        line = file.readline()\n",
    "        \n",
    "        # Swithc EOF\n",
    "        if not line:\n",
    "            \n",
    "            break\n",
    "            \n",
    "        else:\n",
    "            \n",
    "            # Retrieve the two ranges\n",
    "            ranges = line.split(',')\n",
    "            \n",
    "            # Compute ranges' start and end\n",
    "            range_1_start, range_1_end = compute_assignment_range(ranges[0])\n",
    "            range_2_start, range_2_end = compute_assignment_range(ranges[1])\n",
    "            \n",
    "            if is_including(range_1_start, range_1_end, range_2_start, range_2_end):\n",
    "                \n",
    "                count += 1\n",
    "            \n",
    "    return count"
   ]
  },
  {
   "cell_type": "code",
   "execution_count": 27,
   "id": "1cbdf0d9-4b0a-4ffb-9f6a-26e4f21ebcd4",
   "metadata": {},
   "outputs": [
    {
     "data": {
      "text/plain": [
       "459"
      ]
     },
     "execution_count": 27,
     "metadata": {},
     "output_type": "execute_result"
    }
   ],
   "source": [
    "count_including_assignments(volscente_input_file)"
   ]
  },
  {
   "cell_type": "code",
   "execution_count": 28,
   "id": "b45a875b-2a75-4767-8ff4-134c34d485c1",
   "metadata": {},
   "outputs": [
    {
     "data": {
      "text/plain": [
       "503"
      ]
     },
     "execution_count": 28,
     "metadata": {},
     "output_type": "execute_result"
    }
   ],
   "source": [
    "count_including_assignments(ruetha_input_file)"
   ]
  },
  {
   "cell_type": "markdown",
   "id": "a8de83e8-9ef3-461e-aa79-acfdeff4d450",
   "metadata": {},
   "source": [
    "# Part 2"
   ]
  },
  {
   "cell_type": "code",
   "execution_count": 33,
   "id": "2c02756a-f33f-44e7-ba5c-9353c73dbcc2",
   "metadata": {},
   "outputs": [],
   "source": [
    "def is_overlapping(start_1: int,\n",
    "                   end_1: int,\n",
    "                   start_2: int,\n",
    "                   end_2: int) -> bool:\n",
    "    \n",
    "    overlapping = False\n",
    "    \n",
    "    if start_1 <= start_2:\n",
    "        \n",
    "        if start_2 <= end_1:\n",
    "            \n",
    "            overlapping = True\n",
    "        \n",
    "    else:\n",
    "        \n",
    "        if start_1 <= end_2:\n",
    "            \n",
    "            overlapping = True\n",
    "            \n",
    "    return overlapping"
   ]
  },
  {
   "cell_type": "code",
   "execution_count": 34,
   "id": "b99d5ad7-702b-4d7d-8b19-934fc6148423",
   "metadata": {},
   "outputs": [],
   "source": [
    "def count_overlapping_assignments(file_path: str) -> int:\n",
    "    \n",
    "    # Initialise the count\n",
    "    count = 0\n",
    "    \n",
    "    # Read the file\n",
    "    file = open(file_path, 'r')\n",
    "    \n",
    "    i = 0\n",
    "    \n",
    "    while True:\n",
    "        \n",
    "        # Read single line\n",
    "        line = file.readline()\n",
    "        \n",
    "        # Swithc EOF\n",
    "        if not line:\n",
    "            \n",
    "            break\n",
    "            \n",
    "        else:\n",
    "            \n",
    "            # Retrieve the two ranges\n",
    "            ranges = line.split(',')\n",
    "            \n",
    "            # Compute ranges' start and end\n",
    "            range_1_start, range_1_end = compute_assignment_range(ranges[0])\n",
    "            range_2_start, range_2_end = compute_assignment_range(ranges[1])\n",
    "            \n",
    "            if is_overlapping(range_1_start, range_1_end, range_2_start, range_2_end):\n",
    "                \n",
    "                count += 1\n",
    "            \n",
    "    return count"
   ]
  },
  {
   "cell_type": "code",
   "execution_count": 35,
   "id": "2147e845-fef9-4305-85e3-519d44aac8d9",
   "metadata": {},
   "outputs": [
    {
     "data": {
      "text/plain": [
       "779"
      ]
     },
     "execution_count": 35,
     "metadata": {},
     "output_type": "execute_result"
    }
   ],
   "source": [
    "count_overlapping_assignments(volscente_input_file)"
   ]
  },
  {
   "cell_type": "code",
   "execution_count": 36,
   "id": "527e4abb-ea4c-4163-96df-4b3074d18f5b",
   "metadata": {},
   "outputs": [
    {
     "data": {
      "text/plain": [
       "827"
      ]
     },
     "execution_count": 36,
     "metadata": {},
     "output_type": "execute_result"
    }
   ],
   "source": [
    "count_overlapping_assignments(ruetha_input_file)"
   ]
  }
 ],
 "metadata": {
  "kernelspec": {
   "display_name": "Python 3 (ipykernel)",
   "language": "python",
   "name": "python3"
  },
  "language_info": {
   "codemirror_mode": {
    "name": "ipython",
    "version": 3
   },
   "file_extension": ".py",
   "mimetype": "text/x-python",
   "name": "python",
   "nbconvert_exporter": "python",
   "pygments_lexer": "ipython3",
   "version": "3.10.5"
  }
 },
 "nbformat": 4,
 "nbformat_minor": 5
}
