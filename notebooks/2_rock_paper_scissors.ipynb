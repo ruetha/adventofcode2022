{
 "cells": [
  {
   "cell_type": "markdown",
   "id": "12c3e2af-2e25-44d9-8778-edaf95b45679",
   "metadata": {},
   "source": [
    "# Introduction\n",
    "\n",
    "The notebook includes the code to solve the 2nd challenge of Advent of Code 2022\n"
   ]
  },
  {
   "cell_type": "code",
   "execution_count": 1,
   "id": "9cd1aea8-8191-418a-a8e2-a130bcf1f645",
   "metadata": {},
   "outputs": [],
   "source": [
    "# Input paths\n",
    "ruetha_input_file = './../data/2_input_ruetha.txt'\n",
    "volscente_input_file = './../data/2_input_volscente.txt'"
   ]
  },
  {
   "cell_type": "markdown",
   "id": "b36dca70-e688-47bb-a98a-9d27296c3f57",
   "metadata": {},
   "source": [
    "# Part 1"
   ]
  },
  {
   "cell_type": "code",
   "execution_count": 2,
   "id": "cf9fd516-c8a7-4422-a1a3-16465c595b11",
   "metadata": {},
   "outputs": [],
   "source": [
    "rock_paper_scissors_points = {\n",
    "    'X' : 1,\n",
    "    'Y' : 2,\n",
    "    'Z' : 3\n",
    "}"
   ]
  },
  {
   "cell_type": "code",
   "execution_count": 3,
   "id": "0931d8cb-d300-4173-b71a-3c0be8450b9e",
   "metadata": {},
   "outputs": [],
   "source": [
    "round_output_points = {\n",
    "    'A X' : 3,\n",
    "    'A Y' : 6,\n",
    "    'A Z' : 0,\n",
    "    'B X' : 0,\n",
    "    'B Y' : 3,\n",
    "    'B Z' : 6,\n",
    "    'C X' : 6,\n",
    "    'C Y' : 0,\n",
    "    'C Z' : 3\n",
    "}"
   ]
  },
  {
   "cell_type": "code",
   "execution_count": 4,
   "id": "fbaee381-b820-4337-9e4a-d5fb102178fd",
   "metadata": {},
   "outputs": [],
   "source": [
    "def compute_game_score(file_path: str) -> int:\n",
    "    \n",
    "    # Initialise game score\n",
    "    game_score = 0\n",
    "\n",
    "    # Read the file\n",
    "    file = open(file_path, 'r')\n",
    "\n",
    "    while True:\n",
    "\n",
    "        # Read round_points\n",
    "        game_round = file.readline()\n",
    "\n",
    "        if not game_round:\n",
    "\n",
    "            break\n",
    "\n",
    "        else:            \n",
    "\n",
    "            round_score = int(round_output_points[game_round[:3]])\n",
    "\n",
    "            my_points = int(rock_paper_scissors_points[game_round[2]])\n",
    "\n",
    "            round_total_score = round_score + my_points\n",
    "\n",
    "            game_score += round_total_score\n",
    "\n",
    "    return game_score"
   ]
  },
  {
   "cell_type": "code",
   "execution_count": 5,
   "id": "15a13a94-35c7-4268-9416-bc415c0990af",
   "metadata": {},
   "outputs": [
    {
     "data": {
      "text/plain": [
       "14069"
      ]
     },
     "execution_count": 5,
     "metadata": {},
     "output_type": "execute_result"
    }
   ],
   "source": [
    "compute_game_score(ruetha_input_file)"
   ]
  },
  {
   "cell_type": "code",
   "execution_count": 6,
   "id": "2d4dbe18-d607-4a0a-ab72-7c0b7d3c0f18",
   "metadata": {},
   "outputs": [
    {
     "data": {
      "text/plain": [
       "10816"
      ]
     },
     "execution_count": 6,
     "metadata": {},
     "output_type": "execute_result"
    }
   ],
   "source": [
    "compute_game_score(volscente_input_file)"
   ]
  },
  {
   "cell_type": "markdown",
   "id": "e96c1d07-19d8-4017-aa99-c8246c729c4a",
   "metadata": {},
   "source": [
    "# Part 2"
   ]
  },
  {
   "cell_type": "code",
   "execution_count": 7,
   "id": "7df680e6-5046-47b2-bb59-f57dc5e6887f",
   "metadata": {},
   "outputs": [],
   "source": [
    "rock_paper_scissors_points_revised = {\n",
    "    'A X': 3,\n",
    "    'A Y': 1,\n",
    "    'A Z': 2,\n",
    "    'B X': 1,\n",
    "    'B Y': 2,\n",
    "    'B Z': 3,\n",
    "    'C X': 2,\n",
    "    'C Y': 3,\n",
    "    'C Z': 1,\n",
    "}"
   ]
  },
  {
   "cell_type": "code",
   "execution_count": 8,
   "id": "709f6821-f393-403f-b690-52a152ada021",
   "metadata": {},
   "outputs": [],
   "source": [
    "round_output_points_revised = {\n",
    "    'X': 0,\n",
    "    'Y': 3,\n",
    "    'Z': 6\n",
    "}"
   ]
  },
  {
   "cell_type": "code",
   "execution_count": 11,
   "id": "1247f72e-504e-42d9-bad0-a6d44d0acd75",
   "metadata": {},
   "outputs": [],
   "source": [
    "def compute_game_score_revised(file_path: str) -> int:\n",
    "    \n",
    "    # Initialise game score\n",
    "    game_score = 0\n",
    "\n",
    "    # Read the file\n",
    "    file = open(file_path, 'r')\n",
    "\n",
    "    while True:\n",
    "\n",
    "        # Read round_points\n",
    "        game_round = file.readline()\n",
    "\n",
    "        if not game_round:\n",
    "\n",
    "            break\n",
    "\n",
    "        else: \n",
    "            \n",
    "            round_points = round_output_points_revised[game_round[2]]\n",
    "            \n",
    "            my_points = rock_paper_scissors_points_revised[game_round[:3]]\n",
    "        \n",
    "            game_score = game_score + round_points + my_points\n",
    "                            \n",
    "    return game_score"
   ]
  },
  {
   "cell_type": "code",
   "execution_count": 12,
   "id": "80e7b950-9560-49b5-964b-23e076ae28c1",
   "metadata": {},
   "outputs": [
    {
     "data": {
      "text/plain": [
       "11657"
      ]
     },
     "execution_count": 12,
     "metadata": {},
     "output_type": "execute_result"
    }
   ],
   "source": [
    "compute_game_score_revised(volscente_input_file)"
   ]
  },
  {
   "cell_type": "code",
   "execution_count": 13,
   "id": "a34bd33c-ded1-4efa-94fa-b2822a984c42",
   "metadata": {},
   "outputs": [
    {
     "data": {
      "text/plain": [
       "12411"
      ]
     },
     "execution_count": 13,
     "metadata": {},
     "output_type": "execute_result"
    }
   ],
   "source": [
    "compute_game_score_revised(ruetha_input_file)"
   ]
  }
 ],
 "metadata": {
  "kernelspec": {
   "display_name": "Python 3 (ipykernel)",
   "language": "python",
   "name": "python3"
  },
  "language_info": {
   "codemirror_mode": {
    "name": "ipython",
    "version": 3
   },
   "file_extension": ".py",
   "mimetype": "text/x-python",
   "name": "python",
   "nbconvert_exporter": "python",
   "pygments_lexer": "ipython3",
   "version": "3.10.5"
  }
 },
 "nbformat": 4,
 "nbformat_minor": 5
}
