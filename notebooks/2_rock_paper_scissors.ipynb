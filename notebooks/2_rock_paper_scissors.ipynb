{
 "cells": [
  {
   "cell_type": "markdown",
   "id": "12c3e2af-2e25-44d9-8778-edaf95b45679",
   "metadata": {},
   "source": [
    "# Introduction\n",
    "\n",
    "The notebook includes the code to solve the 2nd challenge of Advent of Code 2022\n"
   ]
  },
  {
   "cell_type": "code",
   "execution_count": 26,
   "id": "9cd1aea8-8191-418a-a8e2-a130bcf1f645",
   "metadata": {},
   "outputs": [],
   "source": [
    "# Input paths\n",
    "ruetha_input_file = './../data/2_input_ruetha.txt'"
   ]
  },
  {
   "cell_type": "code",
   "execution_count": 27,
   "id": "cf9fd516-c8a7-4422-a1a3-16465c595b11",
   "metadata": {},
   "outputs": [],
   "source": [
    "rock_paper_scissors_points = {\n",
    "    'X' : 1,\n",
    "    'Y' : 2,\n",
    "    'Z' : 3\n",
    "}"
   ]
  },
  {
   "cell_type": "code",
   "execution_count": 28,
   "id": "0931d8cb-d300-4173-b71a-3c0be8450b9e",
   "metadata": {},
   "outputs": [],
   "source": [
    "round_output_points = {\n",
    "    'A X' : 3,\n",
    "    'A Y' : 6,\n",
    "    'A Z' : 0,\n",
    "    'B X' : 0,\n",
    "    'B Y' : 3,\n",
    "    'B Z' : 6,\n",
    "    'C X' : 6,\n",
    "    'C Y' : 0,\n",
    "    'C Z' : 3\n",
    "}"
   ]
  },
  {
   "cell_type": "code",
   "execution_count": 33,
   "id": "fbaee381-b820-4337-9e4a-d5fb102178fd",
   "metadata": {},
   "outputs": [],
   "source": [
    "def compute_game_score(file_path: str) -> int:\n",
    "    \n",
    "    # Initialise game score\n",
    "    game_score = 0\n",
    "\n",
    "    # Read the file\n",
    "    file = open(file_path, 'r')\n",
    "\n",
    "    while True:\n",
    "\n",
    "        # Read round_points\n",
    "        game_round = file.readline()\n",
    "\n",
    "        if not game_round:\n",
    "\n",
    "            break\n",
    "\n",
    "        else:            \n",
    "\n",
    "            round_score = int(round_output_points[game_round[:3]])\n",
    "\n",
    "            my_points = int(rock_paper_scissors_points[game_round[2]])\n",
    "\n",
    "            round_total_score = round_score + my_points\n",
    "\n",
    "            game_score += round_total_score\n",
    "\n",
    "    return game_score"
   ]
  },
  {
   "cell_type": "code",
   "execution_count": 34,
   "id": "15a13a94-35c7-4268-9416-bc415c0990af",
   "metadata": {},
   "outputs": [
    {
     "data": {
      "text/plain": [
       "14069"
      ]
     },
     "execution_count": 34,
     "metadata": {},
     "output_type": "execute_result"
    }
   ],
   "source": [
    "compute_game_score(ruetha_input_file)"
   ]
  }
 ],
 "metadata": {
  "kernelspec": {
   "display_name": "Python 3 (ipykernel)",
   "language": "python",
   "name": "python3"
  },
  "language_info": {
   "codemirror_mode": {
    "name": "ipython",
    "version": 3
   },
   "file_extension": ".py",
   "mimetype": "text/x-python",
   "name": "python",
   "nbconvert_exporter": "python",
   "pygments_lexer": "ipython3",
   "version": "3.10.3"
  }
 },
 "nbformat": 4,
 "nbformat_minor": 5
}
