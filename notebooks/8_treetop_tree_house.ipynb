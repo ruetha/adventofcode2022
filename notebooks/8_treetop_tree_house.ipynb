{
 "cells": [
  {
   "cell_type": "markdown",
   "id": "09f8f6a2-a843-4592-939c-57e52c062f81",
   "metadata": {},
   "source": [
    "# Introduction\n",
    "\n",
    "The notebook includes the code to solve the 8th challenge of Advent of Code 2022"
   ]
  },
  {
   "cell_type": "code",
   "execution_count": null,
   "id": "98844906-ba2b-42c9-b95a-961c9d3c9d5f",
   "metadata": {},
   "outputs": [],
   "source": []
  }
 ],
 "metadata": {
  "kernelspec": {
   "display_name": "Python 3 (ipykernel)",
   "language": "python",
   "name": "python3"
  },
  "language_info": {
   "codemirror_mode": {
    "name": "ipython",
    "version": 3
   },
   "file_extension": ".py",
   "mimetype": "text/x-python",
   "name": "python",
   "nbconvert_exporter": "python",
   "pygments_lexer": "ipython3",
   "version": "3.10.5"
  }
 },
 "nbformat": 4,
 "nbformat_minor": 5
}
