{
 "cells": [
  {
   "cell_type": "markdown",
   "id": "0b0700b3-27fb-4836-952e-d0283bedb586",
   "metadata": {},
   "source": [
    "# Introduction\n",
    "\n",
    "The notebook includes the code to solve the 1st challenge of Advent of Code 2022"
   ]
  },
  {
   "cell_type": "code",
   "execution_count": 1,
   "id": "5b597c8f-6521-450f-98f9-1fc09386429a",
   "metadata": {},
   "outputs": [],
   "source": [
    "# Import Standard Libraries\n",
    "import os"
   ]
  },
  {
   "cell_type": "code",
   "execution_count": 2,
   "id": "68679d6d-d662-4891-889d-123d75e09689",
   "metadata": {},
   "outputs": [
    {
     "data": {
      "text/plain": [
       "'/Users/s.porreca/Projects/adventofcode2022/notebooks'"
      ]
     },
     "execution_count": 2,
     "metadata": {},
     "output_type": "execute_result"
    }
   ],
   "source": [
    "os.getcwd()"
   ]
  },
  {
   "cell_type": "code",
   "execution_count": 10,
   "id": "6fc0b8cb-475f-4c6e-aa82-d401b1cc8b02",
   "metadata": {},
   "outputs": [],
   "source": [
    "# Input paths\n",
    "volscente_input_file = './../data/1_input_volscente.txt'\n",
    "ruetha_input_file = './../data/1_imput_ruetha.txt'"
   ]
  },
  {
   "cell_type": "code",
   "execution_count": 11,
   "id": "a05993ba-d6c0-4a94-b766-cbc7c2ac7d16",
   "metadata": {},
   "outputs": [],
   "source": [
    "def compute_max_calories(file_path: str) -> int:\n",
    "    \n",
    "    # Initialise empty list\n",
    "    elves = []\n",
    "\n",
    "    # Initialise Elf Calories\n",
    "    elf_calories = 0\n",
    "    \n",
    "    # Read the file\n",
    "    file = open(file_path, 'r')\n",
    "    \n",
    "    while True:\n",
    "    \n",
    "        # Read calories\n",
    "        calories = file.readline()\n",
    "\n",
    "        if not calories:\n",
    "\n",
    "            break\n",
    "\n",
    "        elif calories != '\\n':\n",
    "\n",
    "            elf_calories += int(calories)\n",
    "\n",
    "        elif calories == '\\n':\n",
    "\n",
    "            elves.append(elf_calories)\n",
    "\n",
    "            elf_calories = 0  \n",
    "            \n",
    "    return max(elves)"
   ]
  },
  {
   "cell_type": "code",
   "execution_count": 12,
   "id": "c34356d7-f7fa-4960-bae2-388b8c16f8f0",
   "metadata": {},
   "outputs": [
    {
     "data": {
      "text/plain": [
       "70613"
      ]
     },
     "execution_count": 12,
     "metadata": {},
     "output_type": "execute_result"
    }
   ],
   "source": [
    "compute_max_calories(volscente_input_file)"
   ]
  },
  {
   "cell_type": "code",
   "execution_count": 13,
   "id": "3ea3fe20-6701-426f-8738-41bf245dcfdd",
   "metadata": {},
   "outputs": [
    {
     "data": {
      "text/plain": [
       "72602"
      ]
     },
     "execution_count": 13,
     "metadata": {},
     "output_type": "execute_result"
    }
   ],
   "source": [
    "compute_max_calories(ruetha_input_file)"
   ]
  }
 ],
 "metadata": {
  "kernelspec": {
   "display_name": "Python 3 (ipykernel)",
   "language": "python",
   "name": "python3"
  },
  "language_info": {
   "codemirror_mode": {
    "name": "ipython",
    "version": 3
   },
   "file_extension": ".py",
   "mimetype": "text/x-python",
   "name": "python",
   "nbconvert_exporter": "python",
   "pygments_lexer": "ipython3",
   "version": "3.10.5"
  }
 },
 "nbformat": 4,
 "nbformat_minor": 5
}
