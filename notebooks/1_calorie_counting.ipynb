{
 "cells": [
  {
   "cell_type": "markdown",
   "id": "0b0700b3-27fb-4836-952e-d0283bedb586",
   "metadata": {},
   "source": [
    "# Introduction\n",
    "\n",
    "The notebook includes the code to solve the 1st challenge of Advent of Code 2022"
   ]
  },
  {
   "cell_type": "code",
   "execution_count": null,
   "id": "6fc0b8cb-475f-4c6e-aa82-d401b1cc8b02",
   "metadata": {},
   "outputs": [],
   "source": []
  }
 ],
 "metadata": {
  "kernelspec": {
   "display_name": "Python 3 (ipykernel)",
   "language": "python",
   "name": "python3"
  },
  "language_info": {
   "codemirror_mode": {
    "name": "ipython",
    "version": 3
   },
   "file_extension": ".py",
   "mimetype": "text/x-python",
   "name": "python",
   "nbconvert_exporter": "python",
   "pygments_lexer": "ipython3",
   "version": "3.10.3"
  }
 },
 "nbformat": 4,
 "nbformat_minor": 5
}
