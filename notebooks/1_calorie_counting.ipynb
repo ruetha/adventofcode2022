{
 "cells": [
  {
   "cell_type": "markdown",
   "id": "0b0700b3-27fb-4836-952e-d0283bedb586",
   "metadata": {},
   "source": [
    "# Introduction\n",
    "\n",
    "The notebook includes the code to solve the 1st challenge of Advent of Code 2022"
   ]
  },
  {
   "cell_type": "code",
   "execution_count": 1,
   "id": "5b597c8f-6521-450f-98f9-1fc09386429a",
   "metadata": {},
   "outputs": [],
   "source": [
    "# Import Standard Libraries\n",
    "import os"
   ]
  },
  {
   "cell_type": "code",
   "execution_count": 5,
   "id": "68679d6d-d662-4891-889d-123d75e09689",
   "metadata": {},
   "outputs": [
    {
     "data": {
      "text/plain": [
       "'/Users/s.porreca/Projects/adventofcode2022/notebooks'"
      ]
     },
     "execution_count": 5,
     "metadata": {},
     "output_type": "execute_result"
    }
   ],
   "source": [
    "os.getcwd()"
   ]
  },
  {
   "cell_type": "code",
   "execution_count": 7,
   "id": "6fc0b8cb-475f-4c6e-aa82-d401b1cc8b02",
   "metadata": {},
   "outputs": [],
   "source": [
    "# Input paths\n",
    "volscente_input_file = './../data/1_input_volscente.txt'"
   ]
  },
  {
   "cell_type": "code",
   "execution_count": 12,
   "id": "da799e7f-1b5b-479a-b510-d822993f9822",
   "metadata": {},
   "outputs": [],
   "source": [
    "# Initialise empty list\n",
    "elves = []\n",
    "\n",
    "# Initialise Elf Calories\n",
    "elf_calories = 0"
   ]
  },
  {
   "cell_type": "code",
   "execution_count": 35,
   "id": "d265473f-ea50-4076-9192-b59e1568f405",
   "metadata": {},
   "outputs": [],
   "source": [
    "# Read the file\n",
    "file = open(volscente_input_file, 'r')"
   ]
  },
  {
   "cell_type": "code",
   "execution_count": 36,
   "id": "57e1bae4-b817-4cd8-81ed-cf89ed876c52",
   "metadata": {},
   "outputs": [],
   "source": [
    "while True:\n",
    "    \n",
    "    # Read calories\n",
    "    calories = file.readline()\n",
    "        \n",
    "    if not calories:\n",
    "        \n",
    "        break\n",
    "        \n",
    "    elif calories != '\\n':\n",
    "        \n",
    "        elf_calories += int(calories)\n",
    "    \n",
    "    elif calories == '\\n':\n",
    "        \n",
    "        elves.append(elf_calories)\n",
    "        \n",
    "        elf_calories = 0  "
   ]
  },
  {
   "cell_type": "code",
   "execution_count": 38,
   "id": "92446fe4-13f4-4a2e-a538-5dd8be451f79",
   "metadata": {},
   "outputs": [
    {
     "data": {
      "text/plain": [
       "510089"
      ]
     },
     "execution_count": 38,
     "metadata": {},
     "output_type": "execute_result"
    }
   ],
   "source": [
    "max(elves)"
   ]
  },
  {
   "cell_type": "code",
   "execution_count": null,
   "id": "bf734f8e-6cd9-4c91-b46f-d88f978bc5b3",
   "metadata": {},
   "outputs": [],
   "source": []
  }
 ],
 "metadata": {
  "kernelspec": {
   "display_name": "Python 3 (ipykernel)",
   "language": "python",
   "name": "python3"
  },
  "language_info": {
   "codemirror_mode": {
    "name": "ipython",
    "version": 3
   },
   "file_extension": ".py",
   "mimetype": "text/x-python",
   "name": "python",
   "nbconvert_exporter": "python",
   "pygments_lexer": "ipython3",
   "version": "3.10.5"
  }
 },
 "nbformat": 4,
 "nbformat_minor": 5
}
