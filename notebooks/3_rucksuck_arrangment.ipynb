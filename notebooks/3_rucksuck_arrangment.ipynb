{
 "cells": [
  {
   "cell_type": "markdown",
   "id": "56689ca1-8547-470c-b546-7fe16bbb9b45",
   "metadata": {},
   "source": [
    "### Introduction\n",
    "\n",
    "The notebook includes the code to solve the 3rd challenge of Advent of Code 2022"
   ]
  },
  {
   "cell_type": "code",
   "execution_count": 1,
   "id": "d065471a-aa9d-4a90-a189-cbc9b8d94e4b",
   "metadata": {},
   "outputs": [],
   "source": [
    "# Input paths\n",
    "ruetha_input_file = './../data/3_input_ruetha.txt'\n",
    "volscente_input_file = './../data/3_input_volscente.txt'"
   ]
  },
  {
   "cell_type": "code",
   "execution_count": null,
   "id": "eaa6d8fa-da7b-418a-8dd7-00a6d1909269",
   "metadata": {},
   "outputs": [],
   "source": []
  }
 ],
 "metadata": {
  "kernelspec": {
   "display_name": "Python 3 (ipykernel)",
   "language": "python",
   "name": "python3"
  },
  "language_info": {
   "codemirror_mode": {
    "name": "ipython",
    "version": 3
   },
   "file_extension": ".py",
   "mimetype": "text/x-python",
   "name": "python",
   "nbconvert_exporter": "python",
   "pygments_lexer": "ipython3",
   "version": "3.10.3"
  }
 },
 "nbformat": 4,
 "nbformat_minor": 5
}
