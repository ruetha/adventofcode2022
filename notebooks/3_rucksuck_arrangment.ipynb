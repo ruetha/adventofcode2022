{
 "cells": [
  {
   "cell_type": "markdown",
   "id": "56689ca1-8547-470c-b546-7fe16bbb9b45",
   "metadata": {},
   "source": [
    "### Introduction\n",
    "\n",
    "The notebook includes the code to solve the 3rd challenge of Advent of Code 2022"
   ]
  },
  {
   "cell_type": "code",
   "execution_count": 44,
   "id": "d065471a-aa9d-4a90-a189-cbc9b8d94e4b",
   "metadata": {},
   "outputs": [],
   "source": [
    "# Input paths\n",
    "ruetha_input_file = './../data/3_input_ruetha.txt'\n",
    "volscente_input_file = './../data/3_input_volscente.txt'"
   ]
  },
  {
   "cell_type": "code",
   "execution_count": 58,
   "id": "eaa6d8fa-da7b-418a-8dd7-00a6d1909269",
   "metadata": {},
   "outputs": [],
   "source": [
    "# Defining funciton divide_items to dinstinguish the two items\n",
    "def distinguish_compartments(rucksack):\n",
    "    \n",
    "    # Initialise distinguished items list\n",
    "    distinguished_compartments = []\n",
    "\n",
    "    # Distinguish 2 items\n",
    "    rucksack_len = len(rucksack)\n",
    "\n",
    "    compartment_1 = rucksack[:int((rucksack_len-1)/2)]\n",
    "    compartment_2 = rucksack[int((rucksack_len-1)/2):-1]\n",
    "\n",
    "    distinguished_compartments.append(compartment_1)\n",
    "    distinguished_compartments.append(compartment_2)\n",
    "\n",
    "    return distinguished_compartments"
   ]
  },
  {
   "cell_type": "code",
   "execution_count": 67,
   "id": "dddda75e-82dd-4225-867f-39ac506d6b1a",
   "metadata": {},
   "outputs": [],
   "source": [
    "def fetch_compartments(compartments: list) -> str:\n",
    "    \n",
    "    common_item = ''\n",
    "    \n",
    "    for item in compartments[0]:\n",
    "        \n",
    "        if item in compartments[1]:\n",
    "            \n",
    "            common_item = item\n",
    "            \n",
    "    return common_item\n",
    "    "
   ]
  },
  {
   "cell_type": "code",
   "execution_count": 85,
   "id": "152bc93a-d47f-4f7a-ab16-29974649bcd8",
   "metadata": {},
   "outputs": [],
   "source": [
    "def convert_item(item: str) -> int:\n",
    "    \n",
    "    if item == item.lower():\n",
    "    \n",
    "        item_priority = ord(item) - 96\n",
    "        \n",
    "    else:\n",
    "        \n",
    "        item_priority = ord(item) - 64 + 26\n",
    "    \n",
    "    return item_priority"
   ]
  },
  {
   "cell_type": "code",
   "execution_count": 88,
   "id": "0696c0c9-1437-427f-aabd-cf6c7de76942",
   "metadata": {},
   "outputs": [],
   "source": [
    "def compute_priority_sum(file_path: str) -> int:    \n",
    "    \n",
    "    # initialise final sum\n",
    "    final_sum = 0\n",
    "\n",
    "    # Read the file\n",
    "    file = open(file_path, 'r')\n",
    "\n",
    "    while True:\n",
    "\n",
    "        # Read items\n",
    "        rucksack = file.readline()\n",
    "\n",
    "        if not rucksack:\n",
    "\n",
    "            break\n",
    "\n",
    "        else:\n",
    "\n",
    "            compartments = distinguish_compartments(rucksack)\n",
    "\n",
    "            common_item = fetch_compartments(compartments)\n",
    "\n",
    "            item_priority = convert_item(common_item)\n",
    "\n",
    "            final_sum += item_priority\n",
    "\n",
    "    return final_sum"
   ]
  },
  {
   "cell_type": "code",
   "execution_count": 89,
   "id": "151e86e9-ea48-49c6-b718-16b321058b36",
   "metadata": {},
   "outputs": [
    {
     "data": {
      "text/plain": [
       "7568"
      ]
     },
     "execution_count": 89,
     "metadata": {},
     "output_type": "execute_result"
    }
   ],
   "source": [
    "compute_priority_sum(ruetha_input_file)"
   ]
  }
 ],
 "metadata": {
  "kernelspec": {
   "display_name": "Python 3 (ipykernel)",
   "language": "python",
   "name": "python3"
  },
  "language_info": {
   "codemirror_mode": {
    "name": "ipython",
    "version": 3
   },
   "file_extension": ".py",
   "mimetype": "text/x-python",
   "name": "python",
   "nbconvert_exporter": "python",
   "pygments_lexer": "ipython3",
   "version": "3.10.3"
  }
 },
 "nbformat": 4,
 "nbformat_minor": 5
}
